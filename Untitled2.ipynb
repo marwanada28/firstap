{
  "nbformat": 4,
  "nbformat_minor": 0,
  "metadata": {
    "colab": {
      "provenance": [],
      "authorship_tag": "ABX9TyOnwTJrXP1mFo3TIkn8x1U/",
      "include_colab_link": true
    },
    "kernelspec": {
      "name": "python3",
      "display_name": "Python 3"
    },
    "language_info": {
      "name": "python"
    }
  },
  "cells": [
    {
      "cell_type": "markdown",
      "metadata": {
        "id": "view-in-github",
        "colab_type": "text"
      },
      "source": [
        "<a href=\"https://colab.research.google.com/github/marwanada28/firstap/blob/main/Untitled2.ipynb\" target=\"_parent\"><img src=\"https://colab.research.google.com/assets/colab-badge.svg\" alt=\"Open In Colab\"/></a>"
      ]
    },
    {
      "cell_type": "code",
      "execution_count": 1,
      "metadata": {
        "colab": {
          "base_uri": "https://localhost:8080/"
        },
        "id": "TESbt9lVIESN",
        "outputId": "72d0b1fd-f448-4cf5-9d53-f7299ff4c663"
      },
      "outputs": [
        {
          "output_type": "stream",
          "name": "stdout",
          "text": [
            "masukkan nama anda:marwa nada n\n",
            "masukkan mata kuliah dasar pemograman\n",
            "Hallo selamat datangmarwa nada n,selamat belajar dasar pemograman\n"
          ]
        }
      ],
      "source": [
        "input_nama = input('masukkan nama anda:')\n",
        "input_mata_kuliah = input('masukkan mata kuliah')\n",
        "print(f'Hallo selamat datang{input_nama},selamat belajar{input_mata_kuliah}')"
      ]
    },
    {
      "cell_type": "code",
      "source": [
        "celcius = float(input(\"Masukkan nilai celcius:\"))\n",
        "fahrenheit = (celcius *9/5) + 32\n",
        "print(f\"{celcius}derajat celcius sama dengan {fahrenheit}derajat fahrenheit.\")"
      ],
      "metadata": {
        "colab": {
          "base_uri": "https://localhost:8080/"
        },
        "id": "21WtjglEKCVR",
        "outputId": "179e2060-d0f7-40b1-972a-877c8539c6a8"
      },
      "execution_count": 2,
      "outputs": [
        {
          "output_type": "stream",
          "name": "stdout",
          "text": [
            "Masukkan nilai celcius:50\n",
            "50.0derajat celcius sama dengan 122.0derajat fahrenheit.\n"
          ]
        }
      ]
    }
  ]
}